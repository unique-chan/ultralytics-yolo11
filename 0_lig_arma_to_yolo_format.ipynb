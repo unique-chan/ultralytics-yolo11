{
 "cells": [
  {
   "metadata": {},
   "cell_type": "markdown",
   "source": [
    "LIG 요청사항\n",
    "- 0, 1: 군인\n",
    "- 2, 3: 차량/트럭\n",
    "- 4, 5: 전차\n",
    "\n",
    "본 연구에서는 {0,1}, {2,3}, {4,5}를 묶는다."
   ],
   "id": "b82757cfd047fde9"
  },
  {
   "metadata": {
    "ExecuteTime": {
     "end_time": "2025-06-24T14:08:59.268245Z",
     "start_time": "2025-06-24T14:08:59.266693Z"
    }
   },
   "cell_type": "code",
   "source": [
    "import glob\n",
    "import os\n",
    "import json"
   ],
   "id": "55cd2f95361ca7a5",
   "outputs": [],
   "execution_count": 20
  },
  {
   "metadata": {
    "ExecuteTime": {
     "end_time": "2025-06-24T14:08:59.466508Z",
     "start_time": "2025-06-24T14:08:59.464583Z"
    }
   },
   "cell_type": "code",
   "source": "json_dic = 'Arma3 Tracking/Meta_Info'",
   "id": "1be79e124660465b",
   "outputs": [],
   "execution_count": 21
  },
  {
   "metadata": {
    "ExecuteTime": {
     "end_time": "2025-06-24T14:08:59.638431Z",
     "start_time": "2025-06-24T14:08:59.636851Z"
    }
   },
   "cell_type": "code",
   "source": "img_dic = 'Arma3 Detection'",
   "id": "8bb72c82d0a41535",
   "outputs": [],
   "execution_count": 22
  },
  {
   "metadata": {
    "ExecuteTime": {
     "end_time": "2025-06-24T14:08:59.803128Z",
     "start_time": "2025-06-24T14:08:59.801276Z"
    }
   },
   "cell_type": "code",
   "source": "json_paths = glob.glob(f'{json_dic}/*.json')",
   "id": "b7295454af1bd9b2",
   "outputs": [],
   "execution_count": 23
  },
  {
   "metadata": {
    "ExecuteTime": {
     "end_time": "2025-06-24T14:08:59.967106Z",
     "start_time": "2025-06-24T14:08:59.965217Z"
    }
   },
   "cell_type": "code",
   "source": [
    "def remap_class_id(original_id):\n",
    "    if original_id in [0, 1]:\n",
    "        return 0\n",
    "    elif original_id in [2, 3]:\n",
    "        return 1\n",
    "    elif original_id in [4, 5]:\n",
    "        return 2\n",
    "    else:\n",
    "        raise ValueError(f\"Unknown class_id: {original_id}\")"
   ],
   "id": "4b91f0412b3e982d",
   "outputs": [],
   "execution_count": 24
  },
  {
   "metadata": {
    "ExecuteTime": {
     "end_time": "2025-06-24T14:09:00.374783Z",
     "start_time": "2025-06-24T14:09:00.364431Z"
    }
   },
   "cell_type": "code",
   "source": [
    "for json_path in json_paths:\n",
    "    print(json_path)\n",
    "    with open(json_path, \"r\") as f:\n",
    "        data = json.load(f)\n",
    "\n",
    "    txt_path = f'{img_dic}/{os.path.basename(json_path).replace(\".json\", \".txt\")}'\n",
    "    bbox_info = data.get(\"BboxInfo\", {})\n",
    "    with open(txt_path, \"w\") as f:\n",
    "        for obj_id, values in bbox_info.items():\n",
    "            original_class_id = values[0]\n",
    "            try:\n",
    "                class_id = remap_class_id(original_class_id)\n",
    "            except ValueError as e:\n",
    "                print(f\"Warning: {e} (object: {obj_id})\")\n",
    "                continue  # skip this object if mapping is not defined\n",
    "\n",
    "            x_center = values[1]\n",
    "            y_center = values[2]\n",
    "            width = values[3]\n",
    "            height = values[4]\n",
    "\n",
    "            line = f\"{class_id} {x_center:.6f} {y_center:.6f} {width:.6f} {height:.6f}\\n\"\n",
    "            f.write(line)"
   ],
   "id": "a0c25aefbca5fa60",
   "outputs": [
    {
     "name": "stdout",
     "output_type": "stream",
     "text": [
      "Arma3 Tracking/Meta_Info/G_00002_0_2_1_rec_0_100352.json\n",
      "Arma3 Tracking/Meta_Info/G_00001_0_2_1_rec_0_100042.json\n",
      "Arma3 Tracking/Meta_Info/G_00001_0_2_1_rec_0_100234.json\n",
      "Arma3 Tracking/Meta_Info/G_00002_0_2_1_rec_0_100587.json\n",
      "Arma3 Tracking/Meta_Info/G_00008_0_2_1_rec_0_100322.json\n",
      "Arma3 Tracking/Meta_Info/G_00006_0_2_1_rec_0_100633.json\n",
      "Arma3 Tracking/Meta_Info/G_00002_0_2_1_rec_0_100085.json\n",
      "Arma3 Tracking/Meta_Info/G_00009_0_2_1_rec_0_100599.json\n",
      "Arma3 Tracking/Meta_Info/G_00006_0_2_1_rec_0_100107.json\n",
      "Arma3 Tracking/Meta_Info/G_00003_0_2_1_rec_0_100305.json\n",
      "Arma3 Tracking/Meta_Info/G_00008_0_2_1_rec_0_100122.json\n",
      "Arma3 Tracking/Meta_Info/G_00005_0_2_1_rec_0_100627.json\n",
      "Arma3 Tracking/Meta_Info/G_00008_0_2_1_rec_0_100250.json\n",
      "Arma3 Tracking/Meta_Info/G_00002_0_2_1_rec_0_100487.json\n",
      "Arma3 Tracking/Meta_Info/G_00005_0_2_1_rec_0_100537.json\n",
      "Arma3 Tracking/Meta_Info/G_00006_0_2_1_rec_0_100149.json\n",
      "Arma3 Tracking/Meta_Info/G_00004_0_2_1_rec_0_100271.json\n",
      "Arma3 Tracking/Meta_Info/G_00003_0_2_1_rec_0_100720.json\n",
      "Arma3 Tracking/Meta_Info/G_00001_0_2_1_rec_0_100198.json\n",
      "Arma3 Tracking/Meta_Info/G_00002_0_2_1_rec_0_100120.json\n",
      "Arma3 Tracking/Meta_Info/G_00003_0_2_1_rec_0_100667.json\n",
      "Arma3 Tracking/Meta_Info/G_00006_0_2_1_rec_0_100206.json\n",
      "Arma3 Tracking/Meta_Info/G_00004_0_2_1_rec_0_100419.json\n",
      "Arma3 Tracking/Meta_Info/G_00005_0_2_1_rec_0_100091.json\n",
      "Arma3 Tracking/Meta_Info/G_00003_0_2_1_rec_0_100118.json\n",
      "Arma3 Tracking/Meta_Info/G_00006_0_2_1_rec_0_100236.json\n",
      "Arma3 Tracking/Meta_Info/G_00004_0_2_1_rec_0_100686.json\n",
      "Arma3 Tracking/Meta_Info/G_00003_0_2_1_rec_0_100529.json\n",
      "Arma3 Tracking/Meta_Info/G_00005_0_2_1_rec_0_100149.json\n",
      "Arma3 Tracking/Meta_Info/G_00007_0_2_1_rec_0_100539.json\n",
      "Arma3 Tracking/Meta_Info/G_00005_0_2_1_rec_0_100062.json\n",
      "Arma3 Tracking/Meta_Info/G_00002_0_2_1_rec_0_100268.json\n",
      "Arma3 Tracking/Meta_Info/G_00008_0_2_1_rec_0_100211.json\n",
      "Arma3 Tracking/Meta_Info/G_00001_0_2_1_rec_0_100258.json\n",
      "Arma3 Tracking/Meta_Info/G_00008_0_2_1_rec_0_100359.json\n",
      "Arma3 Tracking/Meta_Info/G_00003_0_2_1_rec_0_100253.json\n",
      "Arma3 Tracking/Meta_Info/G_00001_0_2_1_rec_0_100489.json\n",
      "Arma3 Tracking/Meta_Info/G_00005_0_2_1_rec_0_100381.json\n",
      "Arma3 Tracking/Meta_Info/G_00003_0_2_1_rec_0_100213.json\n",
      "Arma3 Tracking/Meta_Info/G_00007_0_2_1_rec_0_100242.json\n",
      "Arma3 Tracking/Meta_Info/G_00001_0_2_1_rec_0_100693.json\n",
      "Arma3 Tracking/Meta_Info/G_00004_0_2_1_rec_0_100209.json\n",
      "Arma3 Tracking/Meta_Info/G_00008_0_2_1_rec_0_100690.json\n",
      "Arma3 Tracking/Meta_Info/G_00004_0_2_1_rec_0_100539.json\n",
      "Arma3 Tracking/Meta_Info/G_00006_0_2_1_rec_0_100061.json\n",
      "Arma3 Tracking/Meta_Info/G_00004_0_2_1_rec_0_100449.json\n",
      "Arma3 Tracking/Meta_Info/G_00002_0_2_1_rec_0_100508.json\n",
      "Arma3 Tracking/Meta_Info/G_00003_0_2_1_rec_0_100394.json\n",
      "Arma3 Tracking/Meta_Info/G_00005_0_2_1_rec_0_100120.json\n",
      "Arma3 Tracking/Meta_Info/G_00004_0_2_1_rec_0_100627.json\n",
      "Arma3 Tracking/Meta_Info/G_00004_0_2_1_rec_0_100510.json\n",
      "Arma3 Tracking/Meta_Info/G_00007_0_2_1_rec_0_100301.json\n",
      "Arma3 Tracking/Meta_Info/G_00008_0_2_1_rec_0_100180.json\n",
      "Arma3 Tracking/Meta_Info/G_00003_0_2_1_rec_0_100032.json\n",
      "Arma3 Tracking/Meta_Info/G_00005_0_2_1_rec_0_100572.json\n",
      "Arma3 Tracking/Meta_Info/G_00009_0_2_1_rec_0_100299.json\n",
      "Arma3 Tracking/Meta_Info/G_00001_0_2_1_rec_0_100543.json\n",
      "Arma3 Tracking/Meta_Info/G_00001_0_2_1_rec_0_100063.json\n",
      "Arma3 Tracking/Meta_Info/G_00005_0_2_1_rec_0_100490.json\n",
      "Arma3 Tracking/Meta_Info/G_00005_0_2_1_rec_0_100691.json\n",
      "Arma3 Tracking/Meta_Info/G_00009_0_2_1_rec_0_100647.json\n",
      "Arma3 Tracking/Meta_Info/G_00003_0_2_1_rec_0_100538.json\n",
      "Arma3 Tracking/Meta_Info/G_00006_0_2_1_rec_0_100332.json\n",
      "Arma3 Tracking/Meta_Info/G_00002_0_2_1_rec_0_100175.json\n",
      "Arma3 Tracking/Meta_Info/G_00002_0_2_1_rec_0_100390.json\n",
      "Arma3 Tracking/Meta_Info/G_00009_0_2_1_rec_0_100674.json\n",
      "Arma3 Tracking/Meta_Info/G_00001_0_2_1_rec_0_100267.json\n",
      "Arma3 Tracking/Meta_Info/G_00001_0_2_1_rec_0_100435.json\n",
      "Arma3 Tracking/Meta_Info/G_00007_0_2_1_rec_0_100062.json\n",
      "Arma3 Tracking/Meta_Info/G_00009_0_2_1_rec_0_100523.json\n",
      "Arma3 Tracking/Meta_Info/G_00009_0_2_1_rec_0_100557.json\n",
      "Arma3 Tracking/Meta_Info/G_00006_0_2_1_rec_0_100720.json\n",
      "Arma3 Tracking/Meta_Info/G_00006_0_2_1_rec_0_100587.json\n",
      "Arma3 Tracking/Meta_Info/G_00008_0_2_1_rec_0_100041.json\n",
      "Arma3 Tracking/Meta_Info/G_00007_0_2_1_rec_0_100325.json\n",
      "Arma3 Tracking/Meta_Info/G_00008_0_2_1_rec_0_100655.json\n",
      "Arma3 Tracking/Meta_Info/G_00007_0_2_1_rec_0_100479.json\n",
      "Arma3 Tracking/Meta_Info/G_00002_0_2_1_rec_0_100223.json\n",
      "Arma3 Tracking/Meta_Info/G_00006_0_2_1_rec_0_100003.json\n",
      "Arma3 Tracking/Meta_Info/G_00009_0_2_1_rec_0_100569.json\n",
      "Arma3 Tracking/Meta_Info/G_00008_0_2_1_rec_0_100653.json\n",
      "Arma3 Tracking/Meta_Info/G_00009_0_2_1_rec_0_100088.json\n",
      "Arma3 Tracking/Meta_Info/G_00007_0_2_1_rec_0_100030.json\n",
      "Arma3 Tracking/Meta_Info/G_00006_0_2_1_rec_0_100390.json\n",
      "Arma3 Tracking/Meta_Info/G_00009_0_2_1_rec_0_100242.json\n",
      "Arma3 Tracking/Meta_Info/G_00002_0_2_1_rec_0_100719.json\n",
      "Arma3 Tracking/Meta_Info/G_00006_0_2_1_rec_0_100511.json\n",
      "Arma3 Tracking/Meta_Info/G_00008_0_2_1_rec_0_100271.json\n",
      "Arma3 Tracking/Meta_Info/G_00002_0_2_1_rec_0_100058.json\n",
      "Arma3 Tracking/Meta_Info/G_00007_0_2_1_rec_0_100209.json\n",
      "Arma3 Tracking/Meta_Info/G_00003_0_2_1_rec_0_100175.json\n",
      "Arma3 Tracking/Meta_Info/G_00002_0_2_1_rec_0_100148.json\n",
      "Arma3 Tracking/Meta_Info/G_00007_0_2_1_rec_0_100389.json\n",
      "Arma3 Tracking/Meta_Info/G_00002_0_2_1_rec_0_100364.json\n",
      "Arma3 Tracking/Meta_Info/G_00007_0_2_1_rec_0_100661.json\n",
      "Arma3 Tracking/Meta_Info/G_00009_0_2_1_rec_0_100182.json\n",
      "Arma3 Tracking/Meta_Info/G_00009_0_2_1_rec_0_100716.json\n",
      "Arma3 Tracking/Meta_Info/G_00007_0_2_1_rec_0_100580.json\n",
      "Arma3 Tracking/Meta_Info/G_00009_0_2_1_rec_0_100380.json\n",
      "Arma3 Tracking/Meta_Info/G_00004_0_2_1_rec_0_100358.json\n",
      "Arma3 Tracking/Meta_Info/G_00006_0_2_1_rec_0_100359.json\n",
      "Arma3 Tracking/Meta_Info/G_00005_0_2_1_rec_0_100714.json\n",
      "Arma3 Tracking/Meta_Info/G_00003_0_2_1_rec_0_100150.json\n",
      "Arma3 Tracking/Meta_Info/G_00008_0_2_1_rec_0_100614.json\n",
      "Arma3 Tracking/Meta_Info/G_00007_0_2_1_rec_0_100616.json\n",
      "Arma3 Tracking/Meta_Info/G_00004_0_2_1_rec_0_100717.json\n",
      "Arma3 Tracking/Meta_Info/G_00007_0_2_1_rec_0_100115.json\n",
      "Arma3 Tracking/Meta_Info/G_00001_0_2_1_rec_0_100362.json\n",
      "Arma3 Tracking/Meta_Info/G_00007_0_2_1_rec_0_100508.json\n",
      "Arma3 Tracking/Meta_Info/G_00007_0_2_1_rec_0_100358.json\n",
      "Arma3 Tracking/Meta_Info/G_00006_0_2_1_rec_0_100047.json\n",
      "Arma3 Tracking/Meta_Info/G_00007_0_2_1_rec_0_100436.json\n",
      "Arma3 Tracking/Meta_Info/G_00003_0_2_1_rec_0_100092.json\n",
      "Arma3 Tracking/Meta_Info/G_00004_0_2_1_rec_0_100056.json\n",
      "Arma3 Tracking/Meta_Info/G_00003_0_2_1_rec_0_100629.json\n",
      "Arma3 Tracking/Meta_Info/G_00001_0_2_1_rec_0_100634.json\n",
      "Arma3 Tracking/Meta_Info/G_00007_0_2_1_rec_0_100715.json\n",
      "Arma3 Tracking/Meta_Info/G_00001_0_2_1_rec_0_100120.json\n",
      "Arma3 Tracking/Meta_Info/G_00004_0_2_1_rec_0_100300.json\n",
      "Arma3 Tracking/Meta_Info/G_00002_0_2_1_rec_0_100242.json\n",
      "Arma3 Tracking/Meta_Info/G_00003_0_2_1_rec_0_100598.json\n",
      "Arma3 Tracking/Meta_Info/G_00006_0_2_1_rec_0_100601.json\n",
      "Arma3 Tracking/Meta_Info/G_00005_0_2_1_rec_0_100348.json\n",
      "Arma3 Tracking/Meta_Info/G_00008_0_2_1_rec_0_100479.json\n",
      "Arma3 Tracking/Meta_Info/G_00004_0_2_1_rec_0_100597.json\n",
      "Arma3 Tracking/Meta_Info/G_00006_0_2_1_rec_0_100302.json\n",
      "Arma3 Tracking/Meta_Info/G_00008_0_2_1_rec_0_100019.json\n",
      "Arma3 Tracking/Meta_Info/G_00008_0_2_1_rec_0_100583.json\n",
      "Arma3 Tracking/Meta_Info/G_00007_0_2_1_rec_0_100689.json\n",
      "Arma3 Tracking/Meta_Info/G_00005_0_2_1_rec_0_100435.json\n",
      "Arma3 Tracking/Meta_Info/G_00004_0_2_1_rec_0_100326.json\n",
      "Arma3 Tracking/Meta_Info/G_00003_0_2_1_rec_0_100363.json\n",
      "Arma3 Tracking/Meta_Info/G_00002_0_2_1_rec_0_100422.json\n",
      "Arma3 Tracking/Meta_Info/G_00007_0_2_1_rec_0_100094.json\n",
      "Arma3 Tracking/Meta_Info/G_00002_0_2_1_rec_0_100633.json\n",
      "Arma3 Tracking/Meta_Info/G_00008_0_2_1_rec_0_100463.json\n",
      "Arma3 Tracking/Meta_Info/G_00009_0_2_1_rec_0_100419.json\n",
      "Arma3 Tracking/Meta_Info/G_00003_0_2_1_rec_0_100063.json\n",
      "Arma3 Tracking/Meta_Info/G_00003_0_2_1_rec_0_100330.json\n",
      "Arma3 Tracking/Meta_Info/G_00009_0_2_1_rec_0_100479.json\n",
      "Arma3 Tracking/Meta_Info/G_00005_0_2_1_rec_0_100301.json\n",
      "Arma3 Tracking/Meta_Info/G_00003_0_2_1_rec_0_100480.json\n",
      "Arma3 Tracking/Meta_Info/G_00002_0_2_1_rec_0_100539.json\n",
      "Arma3 Tracking/Meta_Info/G_00001_0_2_1_rec_0_100336.json\n",
      "Arma3 Tracking/Meta_Info/G_00005_0_2_1_rec_0_100183.json\n",
      "Arma3 Tracking/Meta_Info/G_00004_0_2_1_rec_0_100569.json\n",
      "Arma3 Tracking/Meta_Info/G_00007_0_2_1_rec_0_100016.json\n",
      "Arma3 Tracking/Meta_Info/G_00008_0_2_1_rec_0_100172.json\n",
      "Arma3 Tracking/Meta_Info/G_00009_0_2_1_rec_0_100449.json\n",
      "Arma3 Tracking/Meta_Info/G_00001_0_2_1_rec_0_100720.json\n",
      "Arma3 Tracking/Meta_Info/G_00009_0_2_1_rec_0_100270.json\n",
      "Arma3 Tracking/Meta_Info/G_00004_0_2_1_rec_0_100660.json\n",
      "Arma3 Tracking/Meta_Info/G_00004_0_2_1_rec_0_100028.json\n",
      "Arma3 Tracking/Meta_Info/G_00009_0_2_1_rec_0_100137.json\n",
      "Arma3 Tracking/Meta_Info/G_00009_0_2_1_rec_0_100692.json\n",
      "Arma3 Tracking/Meta_Info/G_00005_0_2_1_rec_0_100270.json\n",
      "Arma3 Tracking/Meta_Info/G_00004_0_2_1_rec_0_100088.json\n",
      "Arma3 Tracking/Meta_Info/G_00008_0_2_1_rec_0_100433.json\n",
      "Arma3 Tracking/Meta_Info/G_00002_0_2_1_rec_0_100299.json\n",
      "Arma3 Tracking/Meta_Info/G_00006_0_2_1_rec_0_100272.json\n",
      "Arma3 Tracking/Meta_Info/G_00006_0_2_1_rec_0_100451.json\n",
      "Arma3 Tracking/Meta_Info/G_00007_0_2_1_rec_0_100472.json\n",
      "Arma3 Tracking/Meta_Info/G_00003_0_2_1_rec_0_100450.json\n",
      "Arma3 Tracking/Meta_Info/G_00003_0_2_1_rec_0_100004.json\n",
      "Arma3 Tracking/Meta_Info/G_00004_0_2_1_rec_0_100476.json\n",
      "Arma3 Tracking/Meta_Info/G_00006_0_2_1_rec_0_100671.json\n",
      "Arma3 Tracking/Meta_Info/G_00008_0_2_1_rec_0_100086.json\n",
      "Arma3 Tracking/Meta_Info/G_00001_0_2_1_rec_0_100092.json\n",
      "Arma3 Tracking/Meta_Info/G_00009_0_2_1_rec_0_100030.json\n",
      "Arma3 Tracking/Meta_Info/G_00005_0_2_1_rec_0_100018.json\n",
      "Arma3 Tracking/Meta_Info/G_00001_0_2_1_rec_0_100528.json\n",
      "Arma3 Tracking/Meta_Info/G_00001_0_2_1_rec_0_100402.json\n",
      "Arma3 Tracking/Meta_Info/G_00005_0_2_1_rec_0_100385.json\n",
      "Arma3 Tracking/Meta_Info/G_00007_0_2_1_rec_0_100193.json\n",
      "Arma3 Tracking/Meta_Info/G_00003_0_2_1_rec_0_100420.json\n",
      "Arma3 Tracking/Meta_Info/G_00003_0_2_1_rec_0_100689.json\n",
      "Arma3 Tracking/Meta_Info/G_00002_0_2_1_rec_0_100689.json\n",
      "Arma3 Tracking/Meta_Info/G_00005_0_2_1_rec_0_100507.json\n",
      "Arma3 Tracking/Meta_Info/G_00009_0_2_1_rec_0_100347.json\n",
      "Arma3 Tracking/Meta_Info/G_00001_0_2_1_rec_0_100001.json\n",
      "Arma3 Tracking/Meta_Info/G_00009_0_2_1_rec_0_100000.json\n",
      "Arma3 Tracking/Meta_Info/G_00006_0_2_1_rec_0_100176.json\n",
      "Arma3 Tracking/Meta_Info/G_00003_0_2_1_rec_0_100271.json\n",
      "Arma3 Tracking/Meta_Info/G_00001_0_2_1_rec_0_100174.json\n",
      "Arma3 Tracking/Meta_Info/G_00006_0_2_1_rec_0_100122.json\n",
      "Arma3 Tracking/Meta_Info/G_00005_0_2_1_rec_0_100045.json\n",
      "Arma3 Tracking/Meta_Info/G_00006_0_2_1_rec_0_100548.json\n",
      "Arma3 Tracking/Meta_Info/G_00008_0_2_1_rec_0_100536.json\n",
      "Arma3 Tracking/Meta_Info/G_00001_0_2_1_rec_0_100450.json\n",
      "Arma3 Tracking/Meta_Info/G_00009_0_2_1_rec_0_100413.json\n",
      "Arma3 Tracking/Meta_Info/G_00005_0_2_1_rec_0_100603.json\n",
      "Arma3 Tracking/Meta_Info/G_00005_0_2_1_rec_0_100451.json\n",
      "Arma3 Tracking/Meta_Info/G_00005_0_2_1_rec_0_100658.json\n",
      "Arma3 Tracking/Meta_Info/G_00003_0_2_1_rec_0_100574.json\n",
      "Arma3 Tracking/Meta_Info/G_00004_0_2_1_rec_0_100000.json\n",
      "Arma3 Tracking/Meta_Info/G_00002_0_2_1_rec_0_100037.json\n",
      "Arma3 Tracking/Meta_Info/G_00006_0_2_1_rec_0_100484.json\n",
      "Arma3 Tracking/Meta_Info/G_00001_0_2_1_rec_0_100594.json\n",
      "Arma3 Tracking/Meta_Info/G_00007_0_2_1_rec_0_100271.json\n",
      "Arma3 Tracking/Meta_Info/G_00005_0_2_1_rec_0_100208.json\n",
      "Arma3 Tracking/Meta_Info/G_00006_0_2_1_rec_0_100422.json\n",
      "Arma3 Tracking/Meta_Info/G_00009_0_2_1_rec_0_100149.json\n",
      "Arma3 Tracking/Meta_Info/G_00008_0_2_1_rec_0_100509.json\n",
      "Arma3 Tracking/Meta_Info/G_00004_0_2_1_rec_0_100388.json\n",
      "Arma3 Tracking/Meta_Info/G_00001_0_2_1_rec_0_100678.json\n",
      "Arma3 Tracking/Meta_Info/G_00007_0_2_1_rec_0_100157.json\n",
      "Arma3 Tracking/Meta_Info/G_00008_0_2_1_rec_0_100718.json\n",
      "Arma3 Tracking/Meta_Info/G_00004_0_2_1_rec_0_100248.json\n",
      "Arma3 Tracking/Meta_Info/G_00009_0_2_1_rec_0_100230.json\n",
      "Arma3 Tracking/Meta_Info/G_00002_0_2_1_rec_0_100450.json\n",
      "Arma3 Tracking/Meta_Info/G_00007_0_2_1_rec_0_100652.json\n",
      "Arma3 Tracking/Meta_Info/G_00008_0_2_1_rec_0_100349.json\n",
      "Arma3 Tracking/Meta_Info/G_00006_0_2_1_rec_0_100692.json\n",
      "Arma3 Tracking/Meta_Info/G_00002_0_2_1_rec_0_100655.json\n",
      "Arma3 Tracking/Meta_Info/G_00008_0_2_1_rec_0_100063.json\n",
      "Arma3 Tracking/Meta_Info/G_00005_0_2_1_rec_0_100239.json\n",
      "Arma3 Tracking/Meta_Info/G_00004_0_2_1_rec_0_100180.json\n",
      "Arma3 Tracking/Meta_Info/G_00001_0_2_1_rec_0_100301.json\n",
      "Arma3 Tracking/Meta_Info/G_00001_0_2_1_rec_0_100604.json\n",
      "Arma3 Tracking/Meta_Info/G_00002_0_2_1_rec_0_100598.json\n",
      "Arma3 Tracking/Meta_Info/G_00004_0_2_1_rec_0_100159.json\n",
      "Arma3 Tracking/Meta_Info/G_00004_0_2_1_rec_0_100119.json\n",
      "Arma3 Tracking/Meta_Info/G_00008_0_2_1_rec_0_100392.json\n",
      "Arma3 Tracking/Meta_Info/G_00009_0_2_1_rec_0_100059.json\n"
     ]
    }
   ],
   "execution_count": 25
  },
  {
   "metadata": {
    "ExecuteTime": {
     "end_time": "2025-06-24T14:09:47.079604Z",
     "start_time": "2025-06-24T14:09:47.078183Z"
    }
   },
   "cell_type": "code",
   "source": "",
   "id": "4cbfd19aa999df01",
   "outputs": [],
   "execution_count": null
  },
  {
   "metadata": {
    "ExecuteTime": {
     "end_time": "2025-06-24T14:15:25.190939Z",
     "start_time": "2025-06-24T14:15:25.188887Z"
    }
   },
   "cell_type": "code",
   "source": [
    "format = '''path: .\n",
    "\n",
    "train: Arma3 Detection\n",
    "val: Arma3 Detection\n",
    "\n",
    "nc: 3\n",
    "names:\n",
    "    0: soldier\n",
    "    1: car.truck\n",
    "    2: tank\n",
    "\n",
    "'''"
   ],
   "id": "a7a3c4d35616755c",
   "outputs": [],
   "execution_count": 31
  },
  {
   "metadata": {
    "ExecuteTime": {
     "end_time": "2025-06-24T14:15:26.154944Z",
     "start_time": "2025-06-24T14:15:26.153003Z"
    }
   },
   "cell_type": "code",
   "source": [
    "with open('arma.yaml', \"w\") as f:\n",
    "    f.write(format)"
   ],
   "id": "d83a4b824197ae2e",
   "outputs": [],
   "execution_count": 32
  },
  {
   "metadata": {},
   "cell_type": "code",
   "outputs": [],
   "execution_count": null,
   "source": "",
   "id": "36f825a878240afa"
  }
 ],
 "metadata": {
  "kernelspec": {
   "display_name": "Python 3",
   "language": "python",
   "name": "python3"
  },
  "language_info": {
   "codemirror_mode": {
    "name": "ipython",
    "version": 2
   },
   "file_extension": ".py",
   "mimetype": "text/x-python",
   "name": "python",
   "nbconvert_exporter": "python",
   "pygments_lexer": "ipython2",
   "version": "2.7.6"
  }
 },
 "nbformat": 4,
 "nbformat_minor": 5
}
